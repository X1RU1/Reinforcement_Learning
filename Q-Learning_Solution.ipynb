{
 "cells": [
  {
   "cell_type": "markdown",
   "metadata": {},
   "source": [
    "# Review "
   ]
  },
  {
   "cell_type": "markdown",
   "metadata": {},
   "source": [
    "## Q-learning"
   ]
  },
  {
   "cell_type": "markdown",
   "metadata": {},
   "source": [
    "Q-learningg is a __model independent__ RL algorithm used to solve MDP problems. \n",
    "\n",
    "- __Goal__: \n",
    "    \n",
    "    Learn an optimal strategy through interation with the environment.\n",
    "- __Method__:\n",
    "\n",
    "    By updating the `action-value function`   $Q(s,a)$, representing the expected cumulative return that can be obtained by performing ation $a$ in a state $s$.\n",
    "- __Update formula__:\n",
    "\n",
    "    $$ Q(s,a) \\leftarrow Q(s,a)+\\alpha (r+ \\gamma \\underset{a'}{\\max}​Q(s′,a′)−Q(s,a)) $$\n",
    "    \n",
    "    - $ [r+ \\gamma \\underset{a'}{\\max}​Q(s′,a′)] $ is the **target value** that Q-learning approximates, representing the expectation of future returns\n",
    "      - $r$: the immediate reward performing $a$ in $s$.\n",
    "      - $\\underset{a'}{\\max}​Q(s′,a′)$: the maximum future return in $s'$.\n",
    "    <br></br>\n",
    "    - $[\\gamma \\underset{a'}{\\max}​Q(s′,a′)−Q(s,a)]$ is the **TD error**. It represents the gap between actual returns and current $Q$ value.\n",
    "    <br></br>\n",
    "    - $\\alpha\\;$ is learning rate, controlling the adjustment of $Q$ value. The larger $\\alpha$ makes the new information more influential in updating, while the smaller $\\alpha$ is more dependent on the existing $Q$ value estimation.\n"
   ]
  },
  {
   "cell_type": "markdown",
   "metadata": {},
   "source": [
    "### Features of Q-learning"
   ]
  },
  {
   "cell_type": "markdown",
   "metadata": {},
   "source": [
    "- __Model independence__:\n",
    "\n",
    "    *Model* in RL usually refers to a description of the dynamic behavior of the environment, including the transition model and reward function.\n",
    "\n",
    "    Q-learning only needs the actual result observed from the interaction, i.e., the next state $s'$ and the immediate reward $r$.\n",
    "\n",
    "- __Offline update__:\n",
    "\n",
    "    Q-learning does not need to rely on simulations or predictions of future environments. Q values are updated <u>only based on current experience</u>. That is, its knowledge is obtained by estimating the optimal Q value from the sample, rather than by calculating the model.\n",
    "\n",
    "- __Convergence__:\n",
    "\n",
    "    Under the appropriate learning rate and exploration strategy, Q-learning can prove that its Q value converges to the optimal Q value."
   ]
  },
  {
   "cell_type": "markdown",
   "metadata": {},
   "source": [
    "## SARSA"
   ]
  },
  {
   "cell_type": "markdown",
   "metadata": {},
   "source": [
    "Similar to Q-learning, SARSA is a sequential difference method, but differently, it is a __on-policy__ method. \n",
    "\n",
    "- __Goal__:\n",
    "    \n",
    "    Solve for the optimal state-action value function $Q^*(s,a)$, which represents the expected cumulative discount return.\n",
    "\n",
    "- __Updat formula__:\n",
    "\n",
    "    $$ Q(s, a) \\leftarrow Q(s,a) + \\alpha [r + \\gamma Q(s', a') - Q(s,a)] $$ \n",
    "\n",
    "    <br></br>\n",
    "    - $[r + \\gamma Q(s', a')]\\;$  is the __target value__ that SARSA approximates. It represents the expectation of future retrns\n",
    "\n",
    "      - $r$: the immediate reward performing $a$ in $s$.\n",
    "      - $Q(s'a')$: future return performing $a'$ in $s'$.\n",
    "    <br></br>\n",
    "    - $[\\gamma Q(s',a') - Q(s,a)]\\;$ is the __TD error__. It represents the gap between actual returns and the current $Q$ value <font color=gray>Q(s,a)</font>.\n",
    "    <br></br>\n",
    "    - $\\alpha\\;$ is learning rate, controlling the adjustment of $Q$ value. The larger $\\alpha$ makes the new information more influential in updating, while the smaller $\\alpha$ is more dependent on the existing $Q$ value estimation."
   ]
  },
  {
   "cell_type": "markdown",
   "metadata": {},
   "source": [
    "### Feature of SARSA"
   ]
  },
  {
   "cell_type": "markdown",
   "metadata": {},
   "source": [
    "- **On-policy**\n",
    "\n",
    "    When updating the $Q$ value, it takes into account the outcome of the next action chosen by *current policy*, rather than the action that maximizes the $Q$ value.\n"
   ]
  },
  {
   "cell_type": "markdown",
   "metadata": {
    "tags": [
     "parameters"
    ]
   },
   "source": [
    "# Theoretical Problems"
   ]
  },
  {
   "cell_type": "markdown",
   "metadata": {},
   "source": [
    "## Q-learning"
   ]
  },
  {
   "cell_type": "markdown",
   "metadata": {},
   "source": [
    "\n",
    "1. What is the __TD target__ used in the formula for updating Q values in Q-Learning?\n",
    "\n",
    "    A) $r + \\alpha Q(s', a')$\n",
    "\n",
    "    B) $r + \\gamma \\max_aQ(s', a)$\n",
    "\n",
    "    C) $Q(s,a) + r$\n",
    "\n",
    "    D) $\\max_a Q(s, a)$\n",
    "\n",
    "    <font color=red>B</font>\n",
    "\n",
    "2. Which of the following conditions will ensure that Q-learning __converges__ to the optimal policy?\n",
    "\n",
    "    A) The learning rate $\\alpha$ is constant.\n",
    "\n",
    "    B) Explore only a limited number of times.\n",
    "\n",
    "    C) Each state-action pair is explored indefinitely.\n",
    "\n",
    "    D) Exploration strategies are not allowed.\n",
    "\n",
    "    <font color=red>C</font>\n"
   ]
  },
  {
   "cell_type": "markdown",
   "metadata": {},
   "source": [
    "## SARSA"
   ]
  },
  {
   "cell_type": "markdown",
   "metadata": {},
   "source": [
    "1. What are the differences between SARSA and Q-learning?\n",
    "\n",
    "    __ANSWER__:\n",
    "    1. Learning type:\n",
    "        SARSA is an __on-policy__ algorithm that updates the Q value based on actions the agent actually chooses, learning improvements to the current policy.\n",
    "\n",
    "        Q-learning is an __off-policy__ algorithm that updates the Q value assuming that the agent always takes the optimal actions. Therefore, it tends to find the global optimal solution.\n",
    "\n",
    "    2. Stypticity:\n",
    "\n",
    "        SARSA depends on the actions actually taken, so it may converge to a sub-optimal strategy, especially if the environment is complex and the reward structure is unclear.\n",
    "\n",
    "        Q-learning can _theoritically_ converge to the optimal strategy faster because it assumes that the agent always takes the optimal action, therefore, it can explore the entire state-action space more efficiently.\n",
    "\n",
    "    3. Application scenarios:\n",
    "\n",
    "        SARSA is suitable for cases that require a __balance between exploration and exploitation__, especially when the environment changes frequently. It is more conservative, and tends to choose safer solutions in the face of risk.\n",
    "\n",
    "        Q-learning is more suitable for environment with high certainty or where absolute optimal policies need to be found. Generally, it performs better on tasks that require more efficient learning and strategy optimization."
   ]
  },
  {
   "cell_type": "markdown",
   "metadata": {},
   "source": [
    "# Exercise"
   ]
  },
  {
   "cell_type": "markdown",
   "metadata": {},
   "source": [
    "## Q-learning\n",
    "\n",
    "Consider a simple Markov Decision Process (MDP) with three states: S1, S2, and G (the goal state). The agent starts at state S1. The possible actions are A1 and A2.\n",
    "\n",
    "From S1:\n",
    "\n",
    "- Action A1 leads to S2 with a reward of -1.\n",
    "\n",
    "- Action A2 leads directly to G with a reward of +10.\n",
    "\n",
    "From S2:\n",
    "\n",
    "- Action A1 loops back to S2 with a reward of -1.\n",
    "\n",
    "- Action A2 leads to G with a reward of +10.\n",
    "\n",
    "Once the agent reaches the goal state G, the episode ends.\n",
    "\n",
    "Parameters:\n",
    "\n",
    "Learning rate (α): 0.5\n",
    "\n",
    "Discount factor (γ): 0.9\n",
    "\n",
    "Initial Q-values: 1 for (S2,A1) and 0 for all state-action pairs\n",
    "\n",
    "Policy: Epsilon-Greedy, with epsilon = 0.4\n",
    "\n",
    "***Tasks:***\n",
    "\n",
    "1. Compute the Q-values for each state-action pair using the Q-learning update rule. Perform the updates for two episodes:\n",
    "\n",
    "    Episode 1: The agent starts at S1, takes action A1 to S2, then takes action A2 to reach G.\n",
    "    \n",
    "    Episode 2: The agent starts at S1, takes action A2 directly to G.\n",
    "    \n",
    "2. Update the Q-values after each action using the Q-learning formula"
   ]
  },
  {
   "cell_type": "markdown",
   "metadata": {},
   "source": [
    "## SARSA\n",
    "\n",
    "Use the same MDP as described above.\n",
    "\n",
    "Parameters:\n",
    "\n",
    "Learning rate (α): 0.5\n",
    "\n",
    "Discount factor (γ): 0.9\n",
    "\n",
    "Initial Q-values: 1 for (S2,A1) and 0 for all state-action pairs\n",
    "\n",
    "Policy: epsilon greedy, with epsilon = 0.4\n",
    "\n",
    "***Tasks***:\n",
    "\n",
    "1. Compute the Q-values for each state-action pair using the SARSA update rule. Perform the updates for two episodes:\n",
    "\n",
    "    Episode 1: The agent starts at S1, takes action A1 to S2, then takes action A2 to reach G.\n",
    "\n",
    "    Episode 2: The agent starts at S1, takes action A2 directly to G.\n",
    "\n",
    "2. Update the Q-values after each action using the SARSA formula\n",
    "\n",
    "3. Compare the Q-values obtained from SARSA with those from Q-learning. Explain any differences."
   ]
  },
  {
   "cell_type": "markdown",
   "metadata": {},
   "source": [
    "# Simple implementation"
   ]
  },
  {
   "cell_type": "markdown",
   "metadata": {},
   "source": [
    "![alt text](Q-learning-TD-control.png)"
   ]
  },
  {
   "cell_type": "code",
   "execution_count": 1,
   "metadata": {},
   "outputs": [],
   "source": [
    "import numpy as np\n",
    "from collections import defaultdict\n",
    "import random\n",
    "import matplotlib.patches as patches"
   ]
  },
  {
   "cell_type": "code",
   "execution_count": 2,
   "metadata": {},
   "outputs": [],
   "source": [
    "class Q_learning():\n",
    "    def __init__(self, env, num_eps, gamma=0.99, alpha=0.1):\n",
    "        \"\"\"\n",
    "        Q-Learning (off-policy TD control)\n",
    "        Params:\n",
    "            env - environment\n",
    "            num_eps - number of episodes to run\n",
    "            gamma - discount factor [0..1]\n",
    "            alpha - step size (0..1]\n",
    "            epsilon - epsilon-greedy param\n",
    "        \"\"\"\n",
    "        self.env = env\n",
    "        self.num_eps = num_eps\n",
    "        self.gamma = gamma\n",
    "        self.alpha = alpha\n",
    "        ## Initialize Q-table for each (s,a) pair\n",
    "        self.Q = defaultdict(float)\n",
    "        \n",
    "            # default zero for all, terminal MUST be zero\n",
    "            # once add a new pair into keys, a default value(0.) is given\n",
    "        self.step = 0\n",
    "\n",
    "    def policy(self, state):\n",
    "        return None\n",
    "\n",
    "    def update(self, S, A, R, S_):\n",
    "        \"\"\"\n",
    "        Update Q table with the update formula\n",
    "\n",
    "        Parameters:\n",
    "        - S: current state\n",
    "        - A: the choosen action from the state S\n",
    "        - R: the immediate reward after taking A on S\n",
    "        - S_: the next state\n",
    "        \"\"\"\n",
    "        # Current Q value\n",
    "        current_q = self.Q[S, A]\n",
    "        # TD target value\n",
    "        max_Q = np.max([self.Q[S_,a] for a in self.env.action_space(S_)])\n",
    "        td_target = R + self.gamma * max_Q\n",
    "        # TD error\n",
    "        td_error = td_target - current_q\n",
    "        # Update the Q table\n",
    "        self.Q[S, A] += self.alpha * td_error\n",
    "\n",
    "    def run(self):\n",
    "        \"\"\"\n",
    "        Run the agent with given environment\n",
    "        Return :\n",
    "        - episode_rewards: the accumulated reward of each episode\n",
    "        \"\"\"\n",
    "        episode_rewards = []\n",
    "\n",
    "        for _ in range(self.num_eps):   ## Loop for each episode\n",
    "            S = self.env.reset()        ## Initialize S\n",
    "            total_reward = 0.\n",
    "            while True:                 ## Loop for each step\n",
    "                self.step += 1\n",
    "                A = self.policy(S)       ## Choose A from S using policy\n",
    "                \n",
    "                S_, R, done = self.env.step(A)   ## Take action A, get the next state, immediate reward and flag of convergence\n",
    "                total_reward += R\n",
    "\n",
    "                self.update(S, A, R, S_)        ## Update the state\n",
    "                S = S_\n",
    "                if done: break\n",
    "\n",
    "            episode_rewards.append(total_reward)\n",
    "        return episode_rewards\n",
    "\n",
    "    def get_policy(self):\n",
    "        \"\"\"\n",
    "        Extract the optiaml policy from the Q table\n",
    "\n",
    "        Return:\n",
    "        - policy: a mapping from state to action\n",
    "        \"\"\"\n",
    "\n",
    "        pi = defaultdict()\n",
    "        for (s, a), v in self.Q.items():\n",
    "            if (s not in pi.keys()) or (v > pi[s][1]):\n",
    "                pi[s] = [a, v]\n",
    "\n",
    "        return pi"
   ]
  },
  {
   "cell_type": "markdown",
   "metadata": {},
   "source": [
    "![alt text](SARSA.png)"
   ]
  },
  {
   "cell_type": "code",
   "execution_count": 3,
   "metadata": {},
   "outputs": [],
   "source": [
    "class SARSA:\n",
    "    def __init__(self, env, num_eps, alpha=0.1, gamma=0.99):\n",
    "        \"\"\"\n",
    "        SARSA Alg.\n",
    "\n",
    "        Parameters:\n",
    "        - env: the environment\n",
    "        - num_eps: the number of episode\n",
    "        - alpha: learning rate (0 < alpha <= 1)\n",
    "        - gamma: discount factor (0 <= gamma < 1)\n",
    "        \"\"\"\n",
    "        self.env = env\n",
    "        self.num_eps = num_eps\n",
    "        self.alpha = alpha\n",
    "        self.gamma = gamma\n",
    "        # Initialize the Q table\n",
    "        self.Q = defaultdict(float)\n",
    "    \n",
    "    def sample(self, state):\n",
    "            # sample( a from [...]) -> policy, strategy\n",
    "            return\n",
    "    \n",
    "    def update(self, S, A, R, S_, A_):\n",
    "        \"\"\"\n",
    "        Update Q table with the update formula\n",
    "\n",
    "        Parameters:\n",
    "        - S: current state\n",
    "        - A: the choosen action from the state S\n",
    "        - R: the immediate reward after taking A on S\n",
    "        - S_: the next state\n",
    "        - A_: the choosen action from the state S_\n",
    "        \"\"\"\n",
    "        # Current Q value\n",
    "        current_q = self.Q[S, A]\n",
    "        # TD target value\n",
    "        td_target = R + self.gamma * self.Q[S_, A_]\n",
    "        # TD error\n",
    "        td_error = td_target - current_q\n",
    "        # Update the Q table\n",
    "        self.Q[S, A] += self.alpha * td_error\n",
    "    \n",
    "    def run(self):\n",
    "        \"\"\"\n",
    "        Run the agent with given environment\n",
    "        Return :\n",
    "        - episode_rewards: the accumulated reward of each episode\n",
    "        \"\"\"\n",
    "        episode_rewards = []\n",
    "        self.step = 0\n",
    "        \n",
    "        for _ in range(self.num_eps):\n",
    "            S = self.env.reset()\n",
    "            A = self.policy(S)\n",
    "            total_reward = 0.\n",
    "            \n",
    "            while True:\n",
    "                # Take action A, get the reward and next state\n",
    "                self.step += 1\n",
    "                S_, R, done = self.env.step(A)\n",
    "                total_reward += R\n",
    "                # Choose the next action on S_\n",
    "                A_ = self.policy(S_)\n",
    "                \n",
    "                # Update the Q table\n",
    "                self.update(S, A, R, S_, A_)\n",
    "                \n",
    "                # update the state and action\n",
    "                S = S_\n",
    "                A = A_\n",
    "                # if done, finish current episode\n",
    "                if done:\n",
    "                    break\n",
    "            \n",
    "            episode_rewards.append(total_reward)\n",
    "            \n",
    "        return episode_rewards\n",
    "    \n",
    "    def get_policy(self):\n",
    "        \"\"\"\n",
    "        Extract the optiaml policy from the Q table\n",
    "\n",
    "        Return:\n",
    "        - policy: a mapping from state to action\n",
    "        \"\"\"\n",
    "\n",
    "        pi = defaultdict()\n",
    "        for (s, a), v in self.Q.items():\n",
    "            if (s not in pi.keys()) or (v > pi[s][1]):\n",
    "                pi[s] = [a, v]\n",
    "\n",
    "        return pi"
   ]
  },
  {
   "cell_type": "markdown",
   "metadata": {},
   "source": [
    "# Cliff Walking"
   ]
  },
  {
   "cell_type": "markdown",
   "metadata": {},
   "source": [
    "![alt text](CliffWalking.png)"
   ]
  },
  {
   "cell_type": "markdown",
   "metadata": {},
   "source": [
    "- __Problem__:\n",
    "\n",
    "    Consider a grid-world shown as previous picture.\n",
    "\n",
    "    In a $4 \\times 12$ grid, the agent takes the bottom-left corner as the start point and the bottom right corner as the end point. The goal is move the agent from the start point ($(0,0)$) to the end point ($(11,0)$), avoiding reach the cliff ($(i,0)$, for $\\forall i \\in [1,10]$)\n",
    "\n",
    "    The agent can move one step each time in the four directions of up, down, left and right.\n",
    "\n",
    "    Reward is $-1$ on each transition, except those into the cliff region. Stepping into this region incurs a reward of $-100$ and sends the agent back to the start instantly."
   ]
  },
  {
   "cell_type": "markdown",
   "metadata": {},
   "source": [
    "## Environment"
   ]
  },
  {
   "cell_type": "code",
   "execution_count": 4,
   "metadata": {},
   "outputs": [],
   "source": [
    "UP = \"up\"\n",
    "LEFT = \"left\"\n",
    "DOWN = \"down\"\n",
    "RIGHT = \"right\"\n",
    "\n",
    "class CliffWalkingEnv:\n",
    "    def __init__(self):\n",
    "        self.reset()\n",
    "\n",
    "    def reset(self):\n",
    "        \"\"\"Reset the state as initialization\"\"\"\n",
    "        self._x, self._y = 0, 0        # agent initial position\n",
    "        return (0, 0)\n",
    "    \n",
    "    def action_space(self, given_position=None):\n",
    "        \"\"\"Get valid actions according to current state\"\"\"\n",
    "        actions = [UP, LEFT, RIGHT, DOWN]\n",
    "\n",
    "        if given_position:\n",
    "            x, y = given_position[0], given_position[1]\n",
    "        else:\n",
    "            x, y = self._x, self._y\n",
    "        if x == 0:\n",
    "            actions.remove('left')\n",
    "        elif x == 11:\n",
    "            actions.remove('right')\n",
    "\n",
    "        if  y == 0:\n",
    "            actions.remove('down')\n",
    "        elif  y == 3:\n",
    "            actions.remove('up')\n",
    "        return actions\n",
    "    \n",
    "    def reward(self):\n",
    "        \"\"\" After taking action, calculate reward\"\"\"\n",
    "        if self._y == 0 and 1 <= self._x <= 10:\n",
    "            return -100\n",
    "        return -1\n",
    "\n",
    "    def transition(self, action):\n",
    "        \"\"\"Perform transition from [x,y] given action. Does not teleport.\"\"\"\n",
    "        x, y = self._x, self._y\n",
    "        if action == LEFT:    x -= 1\n",
    "        elif action == DOWN:  y -= 1\n",
    "        elif action == RIGHT:  x += 1\n",
    "        elif action == UP:  y += 1\n",
    "        else: raise ValueError('Action must be in [0,1,2,3]')\n",
    "            \n",
    "        x = np.clip(x, 0, 11)   # x range is [0..11] incl.\n",
    "        y = np.clip(y, 0, 3)    # y range is [0..3] incl.\n",
    "        return x, y\n",
    "\n",
    "    def step(self, action):\n",
    "        \"\"\"\n",
    "        Give the action, move the agent in the Grid Word.\n",
    "        Calculate the immediate reward.\n",
    "            - If reach the cliff region, send it back\n",
    "            - If reach the end point, stop\n",
    "        \"\"\"\n",
    "        ## State transition\n",
    "        self._x, self._y = self.transition(action)\n",
    "        ## Get reward\n",
    "        reward = self.reward()\n",
    "\n",
    "        is_end = False\n",
    "        x_, y_ = self._x, self._y               ## Save the state after action\n",
    "        if reward == -100:  # CLIFF spanning x=[1..10]\n",
    "            self._x, self._y = 0, 0             ## Send back to start point\n",
    "        if self._x == 11 and self._y == 0:      ## Reach the GOAL\n",
    "            is_end = True                       ## End\n",
    "\n",
    "        ## Return the next state, immediate reward and end flag (used in Q-learning)\n",
    "        return (x_, y_), reward, is_end\n",
    "    \n",
    "    def get_path(self, Q, maximum_steps=100):\n",
    "        \"\"\"\n",
    "        Returns a path agent would take, if following greedy Q-based policy\n",
    "        \"\"\"\n",
    "        self.reset()\n",
    "        path = [(self._x, self._y)]   # Save starting position\n",
    "        for _ in range(maximum_steps):  # Limit steps in case policy is loopy\n",
    "            A_star = self.action_space()[np.argmax([Q[(self._x, self._y),a] for a in self.action_space()])]   # Choose the best action\n",
    "\n",
    "            x_, y_ = self.transition(A_star)         ## Step forward\n",
    "            # (x_, y_), R, flag = self.step(A_star)         ## Step forward\n",
    "            path.append((x_, y_))         ## Save to path\n",
    "            if 1 <= x_ <= 10 and y_ == 0: \n",
    "                path.append((0,0))\n",
    "                self._x = 0\n",
    "                self._y = 0\n",
    "                \n",
    "            if x_ == 11 and y_ == 0:  break                # GOAL at (11,0)\n",
    "            self._x = x_\n",
    "            self._y = y_\n",
    "\n",
    "        return path"
   ]
  },
  {
   "cell_type": "code",
   "execution_count": 5,
   "metadata": {},
   "outputs": [],
   "source": [
    "env = CliffWalkingEnv()"
   ]
  },
  {
   "cell_type": "markdown",
   "metadata": {},
   "source": [
    "## Plot Utils"
   ]
  },
  {
   "cell_type": "code",
   "execution_count": 6,
   "metadata": {},
   "outputs": [],
   "source": [
    "import matplotlib.pyplot as plt\n",
    "import matplotlib.patches as patches\n",
    "def plot_cliffwalk(Q=None, path_blue=None, path_red=None, labels=None, saveimg=None):\n",
    "    \"\"\"Plot windy gridworld.\n",
    "    \n",
    "    Will plot optimal action for each cell, according to 'Q'\n",
    "    and blue/red lines following 'path_blue'/'path_red' parameters\n",
    "    \n",
    "    Params:\n",
    "        Q         - optional, dictionary mappting [(x,y),action] -> float\n",
    "        path_blue - optional, list [(x1,y1), (x2,y2), ...] of agent steps\n",
    "        path_red  - optional, list [(x1,y1), (x2,y2), ...] of agent steps\n",
    "        labels    - tuple of 2x strings, e.g. ('Sarsa', 'Q-Learning')\n",
    "    \"\"\"\n",
    "    fig = plt.figure()\n",
    "    ax = fig.add_subplot(111)\n",
    "\n",
    "    ax.set_xlim(-.5, 11.5)   # cliffwalk x range [0..11]\n",
    "    ax.set_ylim(-.5, 3.5)    #           y range [0..3]\n",
    "    ax.set_yticks([])\n",
    "    ax.set_xticks([])\n",
    "    ax.axis('off')\n",
    "    ax.set_aspect('equal', 'datalim')\n",
    "\n",
    "    # Start, Goal, The Cliff markers\n",
    "    params = {'horizontalalignment':'center', 'verticalalignment':'center'}\n",
    "    ax.text(0, 0, 'S', fontsize=18, horizontalalignment='center', verticalalignment='center')\n",
    "    ax.text(11, 0, 'G', fontsize=18, horizontalalignment='center', verticalalignment='center')\n",
    "    ax.text(5.5, 0, 'T h e   C l i f f', fontsize=18, **params)\n",
    "    \n",
    "    for x in range(12):\n",
    "        for y in range(4):\n",
    "            if x not in [0, 11] and y == 0:  # cliff\n",
    "                ax.add_patch(patches.Rectangle([x-0.5, y-0.5], 1, 1, fill=True, color='lightgray'))    \n",
    "            else:\n",
    "                ax.add_patch(patches.Rectangle([x-0.5, y-0.5], 1, 1, fill=False))  # cells\n",
    "\n",
    "            if Q is not None:\n",
    "                params = {'head_width':0.2, 'head_length':0.2, 'color':'gray', 'alpha':.2}\n",
    "                action_space = Q.env.action_space(given_position=[x, y])\n",
    "                A_star = np.argmax([Q.Q[(x,y),a] for a in action_space])  # pick best action\n",
    "                A_star = action_space[A_star]\n",
    "                if A_star == \"up\":    ax.arrow(x, y, 0,  .1, **params)  # up\n",
    "                elif A_star == \"down\":  ax.arrow(x, y, 0, -.1, **params)  # down\n",
    "                elif A_star == \"left\":  ax.arrow(x, y, -.1, 0, **params)  # left\n",
    "                elif A_star == \"right\":  ax.arrow(x, y,  .1, 0, **params)  # right\n",
    "\n",
    "    # plot blue line\n",
    "    if path_blue is not None:\n",
    "        for i in range(len(path_blue)-1):\n",
    "            x, y = path_blue[i]\n",
    "            x_, y_ = path_blue[i+1]\n",
    "            if labels is not None and i == 0:\n",
    "                ax.plot([x, x_], [y, y_], color='blue', alpha=1., label=labels[0])\n",
    "            else:\n",
    "                ax.plot([x, x_], [y, y_], color='blue', alpha=1.)\n",
    "\n",
    "    # plot red line\n",
    "    if path_red is not None:\n",
    "        for i in range(len(path_red)-1):\n",
    "            x, y = path_red[i]\n",
    "            x_, y_ = path_red[i+1]\n",
    "            if labels is not None and i == 0:\n",
    "                ax.plot([x, x_], [y, y_], color='red', alpha=1., label=labels[1])\n",
    "            else:\n",
    "                ax.plot([x, x_], [y, y_], color='red', alpha=1.)\n",
    "\n",
    "    fig.legend(loc=4)\n",
    "                \n",
    "    plt.tight_layout()\n",
    "    if saveimg is not None:\n",
    "        plt.savefig(saveimg)\n",
    "    plt.show()\n"
   ]
  },
  {
   "cell_type": "markdown",
   "metadata": {},
   "source": [
    "## Solution\n",
    "\n",
    "Here we solve the problem with random policy, i.e., the agent randomly chooses a feasible direction of advance"
   ]
  },
  {
   "cell_type": "code",
   "execution_count": 7,
   "metadata": {},
   "outputs": [],
   "source": [
    "class Random_Q_learning(Q_learning):\n",
    "    def policy(self, state):\n",
    "        action_space = self.env.action_space(state)\n",
    "        \n",
    "        return action_space[np.random.choice(len(action_space))]"
   ]
  },
  {
   "cell_type": "code",
   "execution_count": 8,
   "metadata": {},
   "outputs": [],
   "source": [
    "Q1 = Random_Q_learning(env, num_eps=100, gamma=.7, alpha=.1)\n",
    "reward = Q1.run()"
   ]
  },
  {
   "cell_type": "code",
   "execution_count": 9,
   "metadata": {},
   "outputs": [
    {
     "data": {
      "image/png": "[encoded data removed]",
      "text/plain": [
       "<Figure size 640x480 with 1 Axes>"
      ]
     },
     "metadata": {},
     "output_type": "display_data"
    }
   ],
   "source": [
    "q_path1 = env.get_path(Q1.Q)\n",
    "plot_cliffwalk(Q1, path_blue=q_path1, labels=[\"Random Q-learning\"])"
   ]
  },
  {
   "cell_type": "markdown",
   "metadata": {},
   "source": [
    "# Exploration Strategy\n",
    "\n",
    "In Q-learning, the __Exploration Strategy__ is used to balance _the trade-off between Exploration and Exploitation_.\n",
    "\n",
    "_Exploration_ helps to discover high-reward actions that may not have been tried before.\n",
    "\n",
    "_Exploitation_ relies on currently learnt knowledge to perform the optimal behavior."
   ]
  },
  {
   "cell_type": "markdown",
   "metadata": {},
   "source": [
    "## $\\epsilon$-Greedy\n",
    "\n",
    "- the most common strategy\n",
    "\n",
    "- __Principle__: The agent may: (1) randomly select an action <font color=red>(explor)</font> with the probability $\\epsilon$, or (2) choose the action with the highest current Q value <font color = red>(exploitation)</font> with the probability $1-\\epsilon$.\n",
    "\n",
    "- __Dynamic regulation $\\epsilon$__: Explore more unknown environment in the early stage, exploite learnt knowledge in later stage.\n",
    "\n",
    "    Use a __diminishing strategy__, i.e., gradually reduce $\\epsilon$ over time. E.G.:\n",
    "\n",
    "    1. $\\epsilon_t = \\frac{\\epsilon_0}{1 + \\lambda t}$\n",
    "    2. $\\epsilon_t = \\epsilon_0 \\cdot e^{-\\lambda t}$\n",
    "    3.  ...\n",
    "\n",
    "- __Features__:\n",
    "  - _Advantage_: Simple to implement; Good effect; Suitable for most Q-learning scenarios.\n",
    "  - _Disadvantage_: In the later stage, even with a very small $\\epsilon$, there is still a chance to select the non-optimal or even worst action."
   ]
  },
  {
   "cell_type": "code",
   "execution_count": 10,
   "metadata": {},
   "outputs": [],
   "source": [
    "class Greedy_Q_learning(Q_learning):\n",
    "    def __init__(self, env, num_eps, gamma, alpha, epsilon_start, epsilon_end=None, dynamic=None):\n",
    "        super().__init__(env, num_eps, gamma, alpha)\n",
    "        ## Add more parameters about epsilon-greedy\n",
    "        self.epsilon = epsilon_start\n",
    "        self.epsilon_end = epsilon_end\n",
    "        self.dynamic = False\n",
    "        self.dynamic_fun = dynamic\n",
    "        if dynamic: self.dynamic = True\n",
    "\n",
    "    def policy(self, state):\n",
    "        seed = np.random.rand()\n",
    "        action_space = self.env.action_space(state) \n",
    "        x, y = self.env._x, self.env._y\n",
    "        if seed < self.epsilon:\n",
    "            ## Random choice with P=epsilon\n",
    "            A_star = np.random.choice(len(action_space))\n",
    "        else:\n",
    "            ## Choose current optimal one\n",
    "            A_star = np.argmax(self.Q[(x, y), a] for a in action_space)\n",
    "\n",
    "        A_star = action_space[A_star]\n",
    "\n",
    "        ## Update epsilon\n",
    "        if self.dynamic == True:\n",
    "            ep = self.dynamic_fun(self.epsilon, self.step)\n",
    "            if self.epsilon_end:\n",
    "                self.epsilon = max(self.epsilon_end, ep)\n",
    "                if self.epsilon <= self.epsilon_end: self.dynamic = False\n",
    "            # if self.step % 1000 == 0: print(self.epsilon)\n",
    "        return A_star"
   ]
  },
  {
   "cell_type": "code",
   "execution_count": 11,
   "metadata": {},
   "outputs": [],
   "source": [
    "def fixed_decay(ep, t, lambda_=0.001):\n",
    "    new_ep = ep * (1. / (1 + lambda_ * t))\n",
    "    # print(new_ep)\n",
    "    return new_ep"
   ]
  },
  {
   "cell_type": "code",
   "execution_count": 12,
   "metadata": {},
   "outputs": [],
   "source": [
    "Q2 = Greedy_Q_learning(env=env, num_eps=100, gamma=.9 , alpha= 1., epsilon_start=1., epsilon_end=0.7, dynamic=fixed_decay)\n",
    "reward = Q2.run()"
   ]
  },
  {
   "cell_type": "code",
   "execution_count": 13,
   "metadata": {},
   "outputs": [],
   "source": [
    "q_path2 = env.get_path(Q2.Q)"
   ]
  },
  {
   "cell_type": "code",
   "execution_count": 14,
   "metadata": {},
   "outputs": [
    {
     "data": {
      "image/png": "[encoded data removed]",
      "text/plain": [
       "<Figure size 640x480 with 1 Axes>"
      ]
     },
     "metadata": {},
     "output_type": "display_data"
    }
   ],
   "source": [
    "plot_cliffwalk(Q=Q2, path_blue=q_path2, labels=[\"E-Greedy Q-learning\"])"
   ]
  },
  {
   "cell_type": "markdown",
   "metadata": {},
   "source": [
    "## Softmax Strategy\n",
    "\n",
    "- a probabilistic choice strategy, and the choice probability of action is related to its Q value\n",
    "\n",
    "- Actions are selected probabilistically based on Q values.\n",
    "    - actions with higher Q values are more likely to be selected\n",
    "    - $P(a|s) = \\frac{e^{Q(s,a)/ \\tau}}{\\sum_{a'}\\, e^{Q(s,a')/\\tau}}$\n",
    "  \n",
    "- Temperature parameter ($\\tau$)\n",
    "  - used to control the randomness of action selection\n",
    "  - when $\\tau$ is large, the selection probabilities of all actions are close $\\Rightarrow$ increasing the exploration\n",
    "  - when $\\tau$ is small, the selection probability of higher Q value increases obviously $\\Rightarrow$ increasing exploitation\n",
    "\n",
    "- Features\n",
    "\n",
    "    - _Advantage_: More intelligent than $\\epsilon$-greedy; can explore and use trade-offs according to the difference in Q values.\n",
    "\n",
    "    - _Disadvantage_: The choice of parameter $\\tau$ is more sensitive, and improper setting may lead to slow learning."
   ]
  },
  {
   "cell_type": "code",
   "execution_count": 15,
   "metadata": {},
   "outputs": [],
   "source": [
    "class Softmax_Q_learning(Q_learning):\n",
    "    def __init__(self, env, num_eps, gamma, alpha, tau):\n",
    "        super().__init__(env, num_eps, gamma, alpha)\n",
    "        self.tau = tau\n",
    "\n",
    "    def policy(self, state):\n",
    "        action_space = self.env.action_space(state)\n",
    "        S = (self.env._x, self.env._y)\n",
    "        deno = sum([np.exp(self.Q[S, a]/self.tau) for a in action_space]) + 1e-3\n",
    "        P = [(np.exp(self.Q[S, a]/self.tau) + 1e-3) / deno for a in action_space]\n",
    "        A_star = np.argmax(P)\n",
    "        A_star = action_space[A_star]\n",
    "        return A_star"
   ]
  },
  {
   "cell_type": "code",
   "execution_count": 16,
   "metadata": {},
   "outputs": [],
   "source": [
    "Q3 = Softmax_Q_learning(env=env, num_eps=500, gamma=0.7, alpha=.1, tau=0.1)\n",
    "reward = Q3.run()"
   ]
  },
  {
   "cell_type": "code",
   "execution_count": 17,
   "metadata": {},
   "outputs": [
    {
     "data": {
      "image/png": "[encoded data removed]",
      "text/plain": [
       "<Figure size 640x480 with 1 Axes>"
      ]
     },
     "metadata": {},
     "output_type": "display_data"
    }
   ],
   "source": [
    "q_path3 = env.get_path(Q3.Q) \n",
    "plot_cliffwalk(Q3, path_blue=q_path3,labels=[\"Softmax Q-learning\"])"
   ]
  },
  {
   "cell_type": "markdown",
   "metadata": {},
   "source": [
    "How about an improper $\\tau$?"
   ]
  },
  {
   "cell_type": "code",
   "execution_count": 18,
   "metadata": {},
   "outputs": [],
   "source": [
    "# Q_ = Softmax_Q_learning(env=env, num_eps=500, gamma=0.7, alpha=1, tau=0.01)\n",
    "# reward = Q_.run()"
   ]
  },
  {
   "cell_type": "markdown",
   "metadata": {},
   "source": [
    "## UCB Strategy\n",
    "\n",
    "Upper Confidence Bound (UCB) is a balanced exploration and exploitation strategy offen used for multi-armed slot machine problems, but can also be applied to Q-learning.\n",
    "- Idea\n",
    "    \n",
    "    When selecting actions with larger current Q values, also consider those less explored (which have wider confidence intervals) for effective exploration.\n",
    "\n",
    "- Principle\n",
    "  \n",
    "    In each state, select the action that maximizes the following formula:\n",
    "    $$ \n",
    "        A_t = \\underset{a}{\\arg \\max} \\Bigg( Q(s,a) + c \\sqrt{\\frac{\\ln t}{N(s,a)}} \\Bigg)\n",
    "    $$\n",
    "\n",
    "    where:\n",
    "\n",
    "    - $Q(s,a)$ is the current estimated Q value.\n",
    "\n",
    "    - $N(s,a)$ is the number of times that the state-action pair $(s,a)$ is selected.\n",
    "\n",
    "    - $t$ is the total number of action selections.\n",
    "\n",
    "    - $c$ is a parameter that controls the intensity of exploration.\n",
    "\n",
    "- Features\n",
    "\n",
    "    - _Advantage_: Balance exploration and utilization more intelligently; automatically adjusting the exploration frequency of each action.\n",
    "    - _Disadvantage_: The implementation in Q-learning is more complex, only sutiable for the environment with limited number of action choices.\n"
   ]
  },
  {
   "cell_type": "code",
   "execution_count": 19,
   "metadata": {},
   "outputs": [],
   "source": [
    "class UBC_Q_learning(Q_learning):\n",
    "    \n",
    "    def __init__(self, env, num_eps, gamma, alpha, c):\n",
    "        super().__init__(env, num_eps, gamma, alpha)\n",
    "        self.c = c\n",
    "        self.N = defaultdict(int)\n",
    "\n",
    "    def policy(self, state):\n",
    "        action_space = self.env.action_space(state) \n",
    "        S = (self.env._x, self.env._y)\n",
    "        t = np.sum([self.N[S,a] for a in action_space]) + 1e-3\n",
    "        ln_t = np.log(t)\n",
    "\n",
    "        A_star = np.argmax([\n",
    "            self.Q[S,a] + self.c * np.sqrt(np.abs(ln_t / (self.N[S,a] + 1e-3))) for a in action_space\n",
    "        ])\n",
    "        A_star = action_space[A_star]\n",
    "        self.N[S, A_star] += 1\n",
    "        return A_star"
   ]
  },
  {
   "cell_type": "code",
   "execution_count": 20,
   "metadata": {},
   "outputs": [],
   "source": [
    "Q4 = UBC_Q_learning(env, num_eps=500, gamma=0.9, alpha=0.1, c=0.1)\n",
    "reward = Q4.run()"
   ]
  },
  {
   "cell_type": "code",
   "execution_count": 21,
   "metadata": {},
   "outputs": [
    {
     "data": {
      "image/png": "[encoded data removed]",
      "text/plain": [
       "<Figure size 640x480 with 1 Axes>"
      ]
     },
     "metadata": {},
     "output_type": "display_data"
    }
   ],
   "source": [
    "q_path4 = env.get_path(Q4.Q)\n",
    "plot_cliffwalk(Q4, path_blue=q_path4, labels=['UBC Q-learning'])"
   ]
  },
  {
   "cell_type": "markdown",
   "metadata": {},
   "source": [
    "# SARSA\n",
    "\n",
    "Here we implement SARSA with $\\epsilon$-Greedy strategy"
   ]
  },
  {
   "cell_type": "code",
   "execution_count": 22,
   "metadata": {},
   "outputs": [],
   "source": [
    "class E_Greedy_SARSA(SARSA):\n",
    "    def __init__(self, env, num_eps, alpha=0.1, gamma=0.99, epsilon_start=0.1, epsilon_end=None, dynamic=None):\n",
    "        \"\"\"\n",
    "        - epsilon: the exploration rate in E-Greedy strategy\n",
    "        \"\"\"\n",
    "        super().__init__(env, num_eps, alpha, gamma)\n",
    "        self.epsilon = epsilon_start\n",
    "        self.epsilon_end = epsilon_end\n",
    "        self.dynamic = False\n",
    "        self.dynamic_fun = dynamic\n",
    "        if self.dynamic_fun: self.dynamic = True\n",
    "    \n",
    "    def policy(self, state):\n",
    "        \"\"\"\n",
    "        choose an action via ε-greedy strategy\n",
    "        Parameters:\n",
    "        - state: current state\n",
    "        Return:\n",
    "        - action: choosen action\n",
    "        \"\"\"\n",
    "        action_space = self.env.action_space(state)\n",
    "        if random.uniform(0, 1) < self.epsilon:\n",
    "            # Explore: Choose a random action\n",
    "            A_star = random.randint(0, len(action_space)-1)\n",
    "        else:\n",
    "            # exploit: choose the maximum action\n",
    "            Qs = [self.Q[state, a] for a in action_space]\n",
    "            A_star = np.argmax(Qs)\n",
    "        A_star = action_space[A_star]\n",
    "        ## Update epsilon\n",
    "        if self.dynamic == True:\n",
    "            ep = self.dynamic_fun(self.epsilon, self.step)\n",
    "            if self.epsilon_end:\n",
    "                self.epsilon = max(self.epsilon_end, ep)\n",
    "                if self.epsilon <= self.epsilon_end: self.dynamic = False\n",
    "        return A_star"
   ]
  },
  {
   "cell_type": "code",
   "execution_count": 23,
   "metadata": {},
   "outputs": [],
   "source": [
    "s = E_Greedy_SARSA(env, num_eps=10000, alpha=0.1, gamma=0.9, epsilon_start=1, epsilon_end=0.1, dynamic=fixed_decay)\n",
    "rewards = s.run()"
   ]
  },
  {
   "cell_type": "code",
   "execution_count": 24,
   "metadata": {},
   "outputs": [
    {
     "data": {
      "image/png": "[encoded data removed]",
      "text/plain": [
       "<Figure size 640x480 with 1 Axes>"
      ]
     },
     "metadata": {},
     "output_type": "display_data"
    }
   ],
   "source": [
    "path = env.get_path(s.Q)\n",
    "plot_cliffwalk(s, path_blue=path, labels=['SARSA'])"
   ]
  },
  {
   "cell_type": "code",
   "execution_count": null,
   "metadata": {},
   "outputs": [],
   "source": []
  }
 ],
 "metadata": {
  "kernelspec": {
   "display_name": "base",
   "language": "python",
   "name": "python3"
  },
  "language_info": {
   "codemirror_mode": {
    "name": "ipython",
    "version": 3
   },
   "file_extension": ".py",
   "mimetype": "text/x-python",
   "name": "python",
   "nbconvert_exporter": "python",
   "pygments_lexer": "ipython3",
   "version": "3.11.3"
  }
 },
 "nbformat": 4,
 "nbformat_minor": 2
}
